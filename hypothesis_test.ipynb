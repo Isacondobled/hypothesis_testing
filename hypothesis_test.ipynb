{
 "cells": [
  {
   "cell_type": "markdown",
   "id": "d7c0ce16",
   "metadata": {},
   "source": [
    "## Ejercicio 1  \n",
    "Enunciar la hipótesis: hipótesis nula y alternativa. -Realizar la prueba para comprobar la hipótesis. Puede utilizar la prueba t de Student. -Analizar las conclusiones."
   ]
  },
  {
   "cell_type": "markdown",
   "id": "c063314a",
   "metadata": {},
   "source": [
    "Hipotesis nula (H0): No hay diferencia entre las dietas con relación al promedio de pérdida de peso.  \n",
    "Hipotesis alternativa (H1): Hay una diferencia entre las dietas con relación al promedio de pérdida de peso."
   ]
  },
  {
   "cell_type": "code",
   "execution_count": null,
   "id": "175cc556",
   "metadata": {},
   "outputs": [
    {
     "name": "stdout",
     "output_type": "stream",
     "text": [
      "t-value: -3.5383407969933938\n",
      "p-value: 0.004083270191713912\n"
     ]
    }
   ],
   "source": [
    "import scipy.stats as stats\n",
    "\n",
    "diet_1 = [2.0, 2.5, 3.0, 2.8, 2.3, 2.7, 2.5]\n",
    "diet_2 = [3.0, 3.2, 3.1, 2.9, 2.8, 3.0, 3.2]\n",
    "\n",
    "t_value, p_value = stats.ttest_ind(diet_1, diet_2)\n",
    "\n",
    "print(f\"t-value: {t_value}\")\n",
    "print(f\"p-value: {p_value}\")"
   ]
  },
  {
   "cell_type": "markdown",
   "id": "49c86888",
   "metadata": {},
   "source": [
    "Conclusión:  \n",
    "Dado que p-value es menor que la significancia .05 deshechamos la hipótesis nula, es decir que no hay diferencia significante entre la pérdida de peso entre dos dietas"
   ]
  },
  {
   "cell_type": "markdown",
   "id": "84bd0cd3",
   "metadata": {},
   "source": [
    "## Exercice 2  \n",
    "Con estos datos busca responder la siguiente pregunta: ¿Existe una diferencia significativa en el rendimiento promedio del maíz entre los tres tipos de fertilizantes?\n",
    "\n",
    "Para ayudarte, sigue los siguientes puntos:\n",
    "\n",
    "-Enunciar la hipótesis: hipótesis nula y alternativa. -Realizar la prueba ANOVA. -Analizar las conclusiones. -Si un fertilizante es mejor que otro, ¿cómo podemos saberlo?"
   ]
  },
  {
   "cell_type": "markdown",
   "id": "cba05c8b",
   "metadata": {},
   "source": [
    "Hipotesis nula (H0): El rendimiento de los tres fertilizantes es el mismo.  \n",
    "Hipotesis alternativa (H1): Al menos un fertilizante tiene un rendimiento diferente."
   ]
  },
  {
   "cell_type": "code",
   "execution_count": null,
   "id": "bbffc6da",
   "metadata": {},
   "outputs": [
    {
     "name": "stdout",
     "output_type": "stream",
     "text": [
      "f-value: 20.31578947368421\n",
      "p-value: 0.000140478247931904\n"
     ]
    }
   ],
   "source": [
    "#ANOVA test\n",
    "import scipy.stats as stats\n",
    "\n",
    "fertilizer_1 = [20, 21, 20, 19, 20]\n",
    "fertilizer_2 = [22, 21, 23, 22, 21]\n",
    "fertilizer_3 = [24, 23, 22, 23, 24]\n",
    "\n",
    "f_value, p_value = stats.f_oneway(fertilizer_1, fertilizer_2, fertilizer_3)\n",
    "\n",
    "print(f\"f-value: {f_value}\")\n",
    "print(f\"p-value: {p_value}\")"
   ]
  },
  {
   "cell_type": "markdown",
   "id": "c1fd3983",
   "metadata": {},
   "source": [
    "Conclusión:\n",
    "También se rechaza la hipóthesis nula ya que el valor es más bajo que p_value"
   ]
  },
  {
   "cell_type": "code",
   "execution_count": 4,
   "id": "68d42a04",
   "metadata": {},
   "outputs": [
    {
     "name": "stdout",
     "output_type": "stream",
     "text": [
      "Multiple Comparison of Means - Tukey HSD, FWER=0.05\n",
      "==================================================\n",
      "group1 group2 meandiff p-adj  lower  upper  reject\n",
      "--------------------------------------------------\n",
      "    F1     F2      1.8 0.0099 0.4572 3.1428   True\n",
      "    F1     F3      3.2 0.0001 1.8572 4.5428   True\n",
      "    F2     F3      1.4 0.0409 0.0572 2.7428   True\n",
      "--------------------------------------------------\n"
     ]
    }
   ],
   "source": [
    "#Tukey test\n",
    "import numpy as np\n",
    "from statsmodels.stats.multicomp import pairwise_tukeyhsd\n",
    "\n",
    "data = np.concatenate([fertilizer_1, fertilizer_2, fertilizer_3])\n",
    "labels = [\"F1\"] * 5 + [\"F2\"] * 5 + [\"F3\"] * 5\n",
    "\n",
    "result = pairwise_tukeyhsd(data, labels, alpha = 0.05)\n",
    "print(result)"
   ]
  },
  {
   "cell_type": "markdown",
   "id": "5f33be49",
   "metadata": {},
   "source": [
    "Ninguna diferencia se ve reflejada en el test es por eso que se puede decir que ningun fertilizante es mejor que otro"
   ]
  },
  {
   "cell_type": "code",
   "execution_count": null,
   "id": "a66190d8",
   "metadata": {},
   "outputs": [],
   "source": []
  },
  {
   "cell_type": "code",
   "execution_count": null,
   "id": "7701d560",
   "metadata": {},
   "outputs": [],
   "source": []
  },
  {
   "cell_type": "code",
   "execution_count": null,
   "id": "eb7b8f9d",
   "metadata": {},
   "outputs": [],
   "source": []
  },
  {
   "cell_type": "markdown",
   "id": "667ec8d3",
   "metadata": {},
   "source": []
  }
 ],
 "metadata": {
  "kernelspec": {
   "display_name": ".venv (3.12.1)",
   "language": "python",
   "name": "python3"
  },
  "language_info": {
   "codemirror_mode": {
    "name": "ipython",
    "version": 3
   },
   "file_extension": ".py",
   "mimetype": "text/x-python",
   "name": "python",
   "nbconvert_exporter": "python",
   "pygments_lexer": "ipython3",
   "version": "3.12.1"
  }
 },
 "nbformat": 4,
 "nbformat_minor": 5
}
